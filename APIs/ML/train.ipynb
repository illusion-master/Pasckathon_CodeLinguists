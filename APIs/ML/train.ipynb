{
 "cells": [
  {
   "cell_type": "markdown",
   "metadata": {},
   "source": [
    "Importing the dataset"
   ]
  },
  {
   "cell_type": "code",
   "execution_count": null,
   "metadata": {
    "colab": {
     "base_uri": "https://localhost:8080/",
     "height": 34
    },
    "colab_type": "code",
    "id": "AFbXyK3NmdbA",
    "outputId": "cedef00e-6f38-4156-e3e0-ecc86dbb914b"
   },
   "outputs": [
    {
     "name": "stdout",
     "output_type": "stream",
     "text": [
      "Done\n"
     ]
    }
   ],
   "source": [
    "from zipfile import ZipFile\n",
    "file_name_1 = \"/content/Skin datasets Images.zip\"\n",
    "with ZipFile(file_name_1,'r') as zip:\n",
    "  zip.extractall()\n",
    "  print(\"Done\")"
   ]
  },
  {
   "cell_type": "markdown",
   "metadata": {},
   "source": [
    "Importing essential libraries and pakages"
   ]
  },
  {
   "cell_type": "code",
   "execution_count": null,
   "metadata": {
    "colab": {},
    "colab_type": "code",
    "id": "WjJ7G9GHmj2X"
   },
   "outputs": [],
   "source": [
    "import numpy as np\n",
    "import cv2\n",
    "import os\n",
    "import random\n",
    "import matplotlib.pyplot as  plt\n",
    "import pickle"
   ]
  },
  {
   "cell_type": "code",
   "execution_count": null,
   "metadata": {
    "colab": {},
    "colab_type": "code",
    "id": "LV80g5AOmkXL"
   },
   "outputs": [],
   "source": [
    "import keras\n",
    "from keras.models import *\n",
    "from keras.layers import *\n",
    "from keras.optimizers import *\n",
    "from keras.preprocessing.image import ImageDataGenerator"
   ]
  },
  {
   "cell_type": "code",
   "execution_count": null,
   "metadata": {
    "colab": {},
    "colab_type": "code",
    "id": "7oNnaiHcmkbO"
   },
   "outputs": [],
   "source": [
    "\n",
    "train_data_dir = '/content/Skin datasets Images/train'\n",
    "test_data_dir = '/content/Skin datasets Images/test'"
   ]
  },
  {
   "cell_type": "code",
   "execution_count": null,
   "metadata": {
    "colab": {
     "base_uri": "https://localhost:8080/",
     "height": 34
    },
    "colab_type": "code",
    "id": "7Lr3xaIlmkdT",
    "outputId": "fc5b3600-44bc-4ce2-bd92-f5c6ceade7c2"
   },
   "outputs": [
    {
     "name": "stdout",
     "output_type": "stream",
     "text": [
      "/content/Skin datasets Images/train\n"
     ]
    }
   ],
   "source": [
    "print(train_data_dir)"
   ]
  },
  {
   "cell_type": "markdown",
   "metadata": {},
   "source": [
    "Generating data using ImageDataGenerator"
   ]
  },
  {
   "cell_type": "code",
   "execution_count": null,
   "metadata": {
    "colab": {},
    "colab_type": "code",
    "id": "koX51hUTmkfa"
   },
   "outputs": [],
   "source": [
    "train_dataGen = ImageDataGenerator(rotation_range = 10,width_shift_range=0.2,height_shift_range=0.2,rescale = 1./255,\n",
    "                                  shear_range = 0.2,\n",
    "                                  zoom_range = 0.4,\n",
    "                                  horizontal_flip = True)"
   ]
  },
  {
   "cell_type": "code",
   "execution_count": null,
   "metadata": {
    "colab": {},
    "colab_type": "code",
    "id": "yTtHFauwmkhF"
   },
   "outputs": [],
   "source": [
    "from glob import glob\n",
    "folders = glob('/content/Skin datasets Images/train/*')"
   ]
  },
  {
   "cell_type": "markdown",
   "metadata": {},
   "source": [
    "Creating a model using VGG16"
   ]
  },
  {
   "cell_type": "code",
   "execution_count": null,
   "metadata": {
    "colab": {
     "base_uri": "https://localhost:8080/",
     "height": 52
    },
    "colab_type": "code",
    "id": "F62Gva7vmkky",
    "outputId": "c9400cf0-7186-45b5-abb9-d4f9e3f5d112"
   },
   "outputs": [
    {
     "name": "stdout",
     "output_type": "stream",
     "text": [
      "Downloading data from https://storage.googleapis.com/tensorflow/keras-applications/vgg16/vgg16_weights_tf_dim_ordering_tf_kernels_notop.h5\n",
      "58892288/58889256 [==============================] - 1s 0us/step\n"
     ]
    }
   ],
   "source": [
    "from keras.applications.vgg16 import VGG16\n",
    "from keras.applications.vgg16 import preprocess_input\n",
    "from keras.layers import Input, Dense, Lambda, Flatten\n",
    "from keras.models import Model\n",
    "from keras.models import Sequential\n",
    "import numpy as np\n",
    "import matplotlib.pyplot as plt\n",
    "IMG_SIZE = [224,224]\n",
    "vgg = VGG16(input_shape = IMG_SIZE +[3], weights = 'imagenet', include_top = False,input_tensor=Input(shape=(48, 48, 3)))\n",
    "\n",
    "for layer in vgg.layers:\n",
    "  layer.trainable = False"
   ]
  },
  {
   "cell_type": "code",
   "execution_count": null,
   "metadata": {
    "colab": {},
    "colab_type": "code",
    "id": "n6LywPu3mkm7"
   },
   "outputs": [],
   "source": [
    "x = Flatten()(vgg.output)\n",
    "prediction = Dense(len(folders), activation = 'softmax')(x)"
   ]
  },
  {
   "cell_type": "code",
   "execution_count": null,
   "metadata": {
    "colab": {},
    "colab_type": "code",
    "id": "XEer6RCymko9"
   },
   "outputs": [],
   "source": [
    "model = Model(inputs = vgg.input, outputs = prediction)"
   ]
  },
  {
   "cell_type": "code",
   "execution_count": null,
   "metadata": {
    "colab": {
     "base_uri": "https://localhost:8080/",
     "height": 897
    },
    "colab_type": "code",
    "id": "umGxes_imkrG",
    "outputId": "6d8908a4-6adc-49c9-8a51-bf2dcd0b0743"
   },
   "outputs": [
    {
     "name": "stdout",
     "output_type": "stream",
     "text": [
      "Model: \"functional_1\"\n",
      "_________________________________________________________________\n",
      "Layer (type)                 Output Shape              Param #   \n",
      "=================================================================\n",
      "input_1 (InputLayer)         [(None, 48, 48, 3)]       0         \n",
      "_________________________________________________________________\n",
      "block1_conv1 (Conv2D)        (None, 48, 48, 64)        1792      \n",
      "_________________________________________________________________\n",
      "block1_conv2 (Conv2D)        (None, 48, 48, 64)        36928     \n",
      "_________________________________________________________________\n",
      "block1_pool (MaxPooling2D)   (None, 24, 24, 64)        0         \n",
      "_________________________________________________________________\n",
      "block2_conv1 (Conv2D)        (None, 24, 24, 128)       73856     \n",
      "_________________________________________________________________\n",
      "block2_conv2 (Conv2D)        (None, 24, 24, 128)       147584    \n",
      "_________________________________________________________________\n",
      "block2_pool (MaxPooling2D)   (None, 12, 12, 128)       0         \n",
      "_________________________________________________________________\n",
      "block3_conv1 (Conv2D)        (None, 12, 12, 256)       295168    \n",
      "_________________________________________________________________\n",
      "block3_conv2 (Conv2D)        (None, 12, 12, 256)       590080    \n",
      "_________________________________________________________________\n",
      "block3_conv3 (Conv2D)        (None, 12, 12, 256)       590080    \n",
      "_________________________________________________________________\n",
      "block3_pool (MaxPooling2D)   (None, 6, 6, 256)         0         \n",
      "_________________________________________________________________\n",
      "block4_conv1 (Conv2D)        (None, 6, 6, 512)         1180160   \n",
      "_________________________________________________________________\n",
      "block4_conv2 (Conv2D)        (None, 6, 6, 512)         2359808   \n",
      "_________________________________________________________________\n",
      "block4_conv3 (Conv2D)        (None, 6, 6, 512)         2359808   \n",
      "_________________________________________________________________\n",
      "block4_pool (MaxPooling2D)   (None, 3, 3, 512)         0         \n",
      "_________________________________________________________________\n",
      "block5_conv1 (Conv2D)        (None, 3, 3, 512)         2359808   \n",
      "_________________________________________________________________\n",
      "block5_conv2 (Conv2D)        (None, 3, 3, 512)         2359808   \n",
      "_________________________________________________________________\n",
      "block5_conv3 (Conv2D)        (None, 3, 3, 512)         2359808   \n",
      "_________________________________________________________________\n",
      "block5_pool (MaxPooling2D)   (None, 1, 1, 512)         0         \n",
      "_________________________________________________________________\n",
      "flatten (Flatten)            (None, 512)               0         \n",
      "_________________________________________________________________\n",
      "dense (Dense)                (None, 3)                 1539      \n",
      "=================================================================\n",
      "Total params: 14,716,227\n",
      "Trainable params: 1,539\n",
      "Non-trainable params: 14,714,688\n",
      "_________________________________________________________________\n"
     ]
    }
   ],
   "source": [
    "model.summary()"
   ]
  },
  {
   "cell_type": "code",
   "execution_count": null,
   "metadata": {
    "colab": {},
    "colab_type": "code",
    "id": "hJAT_B0HmktH"
   },
   "outputs": [],
   "source": [
    "model.compile(loss = 'categorical_crossentropy', optimizer = 'adam', metrics = ['accuracy'])"
   ]
  },
  {
   "cell_type": "code",
   "execution_count": null,
   "metadata": {
    "colab": {
     "base_uri": "https://localhost:8080/",
     "height": 70
    },
    "colab_type": "code",
    "id": "J5ijAaBcmkus",
    "outputId": "c53d5cca-6a57-482e-dc18-de0110fd690b"
   },
   "outputs": [
    {
     "name": "stdout",
     "output_type": "stream",
     "text": [
      "Found 319 images belonging to 3 classes.\n",
      "{'acne': 0, 'eczema': 1, 'melanoma': 2}\n",
      "Found 107 images belonging to 3 classes.\n"
     ]
    }
   ],
   "source": [
    "test_datagen = ImageDataGenerator(rescale = 1./255)\n",
    "train_set = train_dataGen.flow_from_directory('/content/Skin datasets Images/train', target_size=(48,48), batch_size = 16,class_mode='categorical')\n",
    "\n",
    "label_map = (train_set.class_indices)\n",
    "print(label_map)\n",
    "test_set = test_datagen.flow_from_directory('/content/Skin datasets Images/test', target_size=(48,48), batch_size = 16,class_mode='categorical')"
   ]
  },
  {
   "cell_type": "code",
   "execution_count": null,
   "metadata": {
    "colab": {
     "base_uri": "https://localhost:8080/",
     "height": 474
    },
    "colab_type": "code",
    "id": "tjP-My0Qmkwd",
    "outputId": "855a410e-0505-4036-a1a4-241cbb799917"
   },
   "outputs": [
    {
     "name": "stdout",
     "output_type": "stream",
     "text": [
      "Epoch 1/13\n",
      "20/20 [==============================] - 2s 102ms/step - loss: 1.0989 - accuracy: 0.4075 - val_loss: 1.1068 - val_accuracy: 0.4393\n",
      "Epoch 2/13\n",
      "20/20 [==============================] - 1s 59ms/step - loss: 0.9443 - accuracy: 0.5611 - val_loss: 1.0489 - val_accuracy: 0.4486\n",
      "Epoch 3/13\n",
      "20/20 [==============================] - 1s 60ms/step - loss: 0.8822 - accuracy: 0.6113 - val_loss: 0.9931 - val_accuracy: 0.5047\n",
      "Epoch 4/13\n",
      "20/20 [==============================] - 1s 59ms/step - loss: 0.8678 - accuracy: 0.6238 - val_loss: 0.9576 - val_accuracy: 0.5421\n",
      "Epoch 5/13\n",
      "20/20 [==============================] - 1s 59ms/step - loss: 0.8293 - accuracy: 0.6270 - val_loss: 0.9135 - val_accuracy: 0.5607\n",
      "Epoch 6/13\n",
      "20/20 [==============================] - 1s 63ms/step - loss: 0.7954 - accuracy: 0.6646 - val_loss: 0.8972 - val_accuracy: 0.5701\n",
      "Epoch 7/13\n",
      "20/20 [==============================] - 1s 62ms/step - loss: 0.7853 - accuracy: 0.6771 - val_loss: 0.8648 - val_accuracy: 0.5981\n",
      "Epoch 8/13\n",
      "20/20 [==============================] - 1s 63ms/step - loss: 0.7603 - accuracy: 0.6646 - val_loss: 0.8593 - val_accuracy: 0.5888\n",
      "Epoch 9/13\n",
      "20/20 [==============================] - 1s 63ms/step - loss: 0.7180 - accuracy: 0.6897 - val_loss: 0.8236 - val_accuracy: 0.6168\n",
      "Epoch 10/13\n",
      "20/20 [==============================] - 1s 63ms/step - loss: 0.7302 - accuracy: 0.6959 - val_loss: 0.7924 - val_accuracy: 0.6916\n",
      "Epoch 11/13\n",
      "20/20 [==============================] - 1s 62ms/step - loss: 0.6993 - accuracy: 0.7335 - val_loss: 0.7941 - val_accuracy: 0.6636\n",
      "Epoch 12/13\n",
      "20/20 [==============================] - 1s 63ms/step - loss: 0.6905 - accuracy: 0.7524 - val_loss: 0.7746 - val_accuracy: 0.6355\n",
      "Epoch 13/13\n",
      "20/20 [==============================] - 1s 63ms/step - loss: 0.6658 - accuracy: 0.7210 - val_loss: 0.7558 - val_accuracy: 0.6636\n"
     ]
    }
   ],
   "source": [
    "r = model.fit_generator(train_set,validation_data=test_set,epochs=13,steps_per_epoch=len(train_set),validation_steps=len(test_set))"
   ]
  },
  {
   "cell_type": "code",
   "execution_count": null,
   "metadata": {
    "colab": {
     "base_uri": "https://localhost:8080/",
     "height": 265
    },
    "colab_type": "code",
    "id": "eK99FE57mkys",
    "outputId": "e54e39f0-c097-4842-ef02-f4380718a548"
   },
   "outputs": [
    {
     "data": {
      "image/png": "[encoded data removed]",
      "text/plain": [
       "<Figure size 432x288 with 1 Axes>"
      ]
     },
     "metadata": {
      "needs_background": "light",
      "tags": []
     },
     "output_type": "display_data"
    }
   ],
   "source": [
    "plt.plot(r.history['loss'], label='train loss')\n",
    "plt.plot(r.history['val_loss'], label = 'val_loss')\n",
    "plt.legend()\n",
    "plt.show()"
   ]
  },
  {
   "cell_type": "code",
   "execution_count": null,
   "metadata": {
    "colab": {
     "base_uri": "https://localhost:8080/",
     "height": 265
    },
    "colab_type": "code",
    "id": "zNlJXXzumk0k",
    "outputId": "55407f3d-2c0c-45a9-d5ae-6ebacb9a32ea"
   },
   "outputs": [
    {
     "data": {
      "image/png": "[encoded data removed]",
      "text/plain": [
       "<Figure size 432x288 with 1 Axes>"
      ]
     },
     "metadata": {
      "needs_background": "light",
      "tags": []
     },
     "output_type": "display_data"
    }
   ],
   "source": [
    "plt.plot(r.history['accuracy'],label='train acc')\n",
    "plt.plot(r.history['val_accuracy'],label='val acc')\n",
    "plt.legend()\n",
    "plt.show()"
   ]
  },
  {
   "cell_type": "code",
   "execution_count": null,
   "metadata": {
    "colab": {},
    "colab_type": "code",
    "id": "vOZhEYgqmk4G"
   },
   "outputs": [],
   "source": [
    "model.save('model_3_Classes_1.h5')"
   ]
  },
  {
   "cell_type": "markdown",
   "metadata": {},
   "source": [
    "model with train acuuracy of 72.1% and validation accuracy of 66.36%"
   ]
  },
  {
   "cell_type": "code",
   "execution_count": null,
   "metadata": {
    "colab": {},
    "colab_type": "code",
    "id": "iez0BqNemk7v"
   },
   "outputs": [],
   "source": [
    "dic = {'acne': 0, 'eczema': 1, 'melanoma': 2}\n",
    "keys = list(dic.keys())\n",
    "vals = list(dic.values())\n"
   ]
  },
  {
   "cell_type": "code",
   "execution_count": null,
   "metadata": {},
   "outputs": [],
   "source": [
    "from PIL import Image\n",
    "img = cv2.imread('/content/melanoma_1.jpg') # image path in this path should be given\n",
    "img = cv2.resize(img, (48,48))\n",
    "from keras.preprocessing import image\n",
    "img = Image.fromarray(img,'RGB')\n",
    "img_array = np.array(img)\n",
    "img_array = np.expand_dims(img_array, axis=0)\n",
    "pred = model.predict(img_array)\n"
   ]
  },
  {
   "cell_type": "code",
   "execution_count": null,
   "metadata": {},
   "outputs": [],
   "source": [
    "print(keys[vals.index(np.argmax(pred))])"
   ]
  }
 ],
 "metadata": {
  "accelerator": "GPU",
  "colab": {
   "name": "Untitled12.ipynb",
   "provenance": []
  },
  "kernelspec": {
   "display_name": "Python 3",
   "language": "python",
   "name": "python3"
  },
  "language_info": {
   "codemirror_mode": {
    "name": "ipython",
    "version": 3
   },
   "file_extension": ".py",
   "mimetype": "text/x-python",
   "name": "python",
   "nbconvert_exporter": "python",
   "pygments_lexer": "ipython3",
   "version": "3.7.2"
  }
 },
 "nbformat": 4,
 "nbformat_minor": 1
}
